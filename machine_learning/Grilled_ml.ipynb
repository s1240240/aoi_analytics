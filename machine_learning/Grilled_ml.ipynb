{
 "cells": [
  {
   "cell_type": "code",
   "execution_count": 1,
   "metadata": {},
   "outputs": [],
   "source": [
    "import pandas as pd\n",
    "import numpy as np\n",
    "from sklearn.linear_model import LinearRegression,Lasso,Ridge"
   ]
  },
  {
   "cell_type": "code",
   "execution_count": 2,
   "metadata": {},
   "outputs": [],
   "source": [
    "#カテゴリデータのダミー化\n",
    "#p211\n",
    "#1線形回帰で行なったダミー変数を整形する前のデータをcsvfileに変換し、machine_learningのディレクトリに置く\n",
    "#2それを使い、dtypesを使い、型を確認し、ダミー化したいカラムを文字列(object型)に変換する\n",
    "#3get_dummiesを使ってdataframe全てを対象にダミー化する(数値データはダミー化されない)\n",
    "#4dataframeをターゲットと特徴量に分ける \n",
    "#5sklearn のいくつかの回帰モデルを使って学習させる\n",
    "#alphaの値を調節して良い結果が出ればそれを報告する"
   ]
  },
  {
   "cell_type": "code",
   "execution_count": 3,
   "metadata": {},
   "outputs": [],
   "source": [
    "origin_data=pd.read_csv(\"2017_Grilled_chicken_ml\",encoding=\"UTF-8\")"
   ]
  },
  {
   "cell_type": "code",
   "execution_count": 4,
   "metadata": {},
   "outputs": [],
   "source": [
    "origin_data[\"uri_su\"].fillna(0,inplace=True)"
   ]
  },
  {
   "cell_type": "code",
   "execution_count": 5,
   "metadata": {
    "scrolled": true
   },
   "outputs": [],
   "source": [
    "origin_data=origin_data.astype({\"hour\":\"str\",\"month\":\"str\",\"youbi\":\"str\"})"
   ]
  },
  {
   "cell_type": "code",
   "execution_count": 6,
   "metadata": {},
   "outputs": [
    {
     "data": {
      "text/plain": [
       "Unnamed: 0      int64\n",
       "datetime       object\n",
       "uri_su        float64\n",
       "hour           object\n",
       "month          object\n",
       "youbi          object\n",
       "weekofyear      int64\n",
       "price         float64\n",
       "weather       float64\n",
       "avg_temp      float64\n",
       "snow          float64\n",
       "sekisetu      float64\n",
       "dtype: object"
      ]
     },
     "execution_count": 6,
     "metadata": {},
     "output_type": "execute_result"
    }
   ],
   "source": [
    "origin_data.dtypes"
   ]
  },
  {
   "cell_type": "code",
   "execution_count": 7,
   "metadata": {},
   "outputs": [
    {
     "data": {
      "text/html": [
       "<div>\n",
       "<style scoped>\n",
       "    .dataframe tbody tr th:only-of-type {\n",
       "        vertical-align: middle;\n",
       "    }\n",
       "\n",
       "    .dataframe tbody tr th {\n",
       "        vertical-align: top;\n",
       "    }\n",
       "\n",
       "    .dataframe thead th {\n",
       "        text-align: right;\n",
       "    }\n",
       "</style>\n",
       "<table border=\"1\" class=\"dataframe\">\n",
       "  <thead>\n",
       "    <tr style=\"text-align: right;\">\n",
       "      <th></th>\n",
       "      <th>Unnamed: 0</th>\n",
       "      <th>datetime</th>\n",
       "      <th>uri_su</th>\n",
       "      <th>hour</th>\n",
       "      <th>month</th>\n",
       "      <th>youbi</th>\n",
       "      <th>weekofyear</th>\n",
       "      <th>price</th>\n",
       "      <th>weather</th>\n",
       "      <th>avg_temp</th>\n",
       "      <th>snow</th>\n",
       "      <th>sekisetu</th>\n",
       "    </tr>\n",
       "  </thead>\n",
       "  <tbody>\n",
       "    <tr>\n",
       "      <th>0</th>\n",
       "      <td>0</td>\n",
       "      <td>2017-01-01 09:00:00</td>\n",
       "      <td>0.0</td>\n",
       "      <td>9</td>\n",
       "      <td>1</td>\n",
       "      <td>6</td>\n",
       "      <td>1</td>\n",
       "      <td>498.000000</td>\n",
       "      <td>0.0</td>\n",
       "      <td>2.7</td>\n",
       "      <td>0.0</td>\n",
       "      <td>0.0</td>\n",
       "    </tr>\n",
       "    <tr>\n",
       "      <th>1</th>\n",
       "      <td>1</td>\n",
       "      <td>2017-01-01 10:00:00</td>\n",
       "      <td>3.0</td>\n",
       "      <td>10</td>\n",
       "      <td>1</td>\n",
       "      <td>6</td>\n",
       "      <td>1</td>\n",
       "      <td>449.333333</td>\n",
       "      <td>0.0</td>\n",
       "      <td>3.4</td>\n",
       "      <td>0.0</td>\n",
       "      <td>0.0</td>\n",
       "    </tr>\n",
       "    <tr>\n",
       "      <th>2</th>\n",
       "      <td>2</td>\n",
       "      <td>2017-01-01 11:00:00</td>\n",
       "      <td>3.0</td>\n",
       "      <td>11</td>\n",
       "      <td>1</td>\n",
       "      <td>6</td>\n",
       "      <td>1</td>\n",
       "      <td>355.333333</td>\n",
       "      <td>0.0</td>\n",
       "      <td>5.0</td>\n",
       "      <td>0.0</td>\n",
       "      <td>0.0</td>\n",
       "    </tr>\n",
       "    <tr>\n",
       "      <th>3</th>\n",
       "      <td>3</td>\n",
       "      <td>2017-01-01 12:00:00</td>\n",
       "      <td>0.0</td>\n",
       "      <td>12</td>\n",
       "      <td>1</td>\n",
       "      <td>6</td>\n",
       "      <td>1</td>\n",
       "      <td>498.000000</td>\n",
       "      <td>0.0</td>\n",
       "      <td>5.0</td>\n",
       "      <td>0.0</td>\n",
       "      <td>0.0</td>\n",
       "    </tr>\n",
       "    <tr>\n",
       "      <th>4</th>\n",
       "      <td>4</td>\n",
       "      <td>2017-01-01 13:00:00</td>\n",
       "      <td>1.0</td>\n",
       "      <td>13</td>\n",
       "      <td>1</td>\n",
       "      <td>6</td>\n",
       "      <td>1</td>\n",
       "      <td>298.000000</td>\n",
       "      <td>0.0</td>\n",
       "      <td>6.4</td>\n",
       "      <td>0.0</td>\n",
       "      <td>0.0</td>\n",
       "    </tr>\n",
       "  </tbody>\n",
       "</table>\n",
       "</div>"
      ],
      "text/plain": [
       "   Unnamed: 0             datetime  uri_su hour month youbi  weekofyear  \\\n",
       "0           0  2017-01-01 09:00:00     0.0    9     1     6           1   \n",
       "1           1  2017-01-01 10:00:00     3.0   10     1     6           1   \n",
       "2           2  2017-01-01 11:00:00     3.0   11     1     6           1   \n",
       "3           3  2017-01-01 12:00:00     0.0   12     1     6           1   \n",
       "4           4  2017-01-01 13:00:00     1.0   13     1     6           1   \n",
       "\n",
       "        price  weather  avg_temp  snow  sekisetu  \n",
       "0  498.000000      0.0       2.7   0.0       0.0  \n",
       "1  449.333333      0.0       3.4   0.0       0.0  \n",
       "2  355.333333      0.0       5.0   0.0       0.0  \n",
       "3  498.000000      0.0       5.0   0.0       0.0  \n",
       "4  298.000000      0.0       6.4   0.0       0.0  "
      ]
     },
     "execution_count": 7,
     "metadata": {},
     "output_type": "execute_result"
    }
   ],
   "source": [
    "origin_data.head()"
   ]
  },
  {
   "cell_type": "code",
   "execution_count": 8,
   "metadata": {},
   "outputs": [],
   "source": [
    "origin_data.drop([\"Unnamed: 0\",\"datetime\"],axis=1,inplace=True)"
   ]
  },
  {
   "cell_type": "code",
   "execution_count": 9,
   "metadata": {},
   "outputs": [
    {
     "data": {
      "text/html": [
       "<div>\n",
       "<style scoped>\n",
       "    .dataframe tbody tr th:only-of-type {\n",
       "        vertical-align: middle;\n",
       "    }\n",
       "\n",
       "    .dataframe tbody tr th {\n",
       "        vertical-align: top;\n",
       "    }\n",
       "\n",
       "    .dataframe thead th {\n",
       "        text-align: right;\n",
       "    }\n",
       "</style>\n",
       "<table border=\"1\" class=\"dataframe\">\n",
       "  <thead>\n",
       "    <tr style=\"text-align: right;\">\n",
       "      <th></th>\n",
       "      <th>uri_su</th>\n",
       "      <th>hour</th>\n",
       "      <th>month</th>\n",
       "      <th>youbi</th>\n",
       "      <th>weekofyear</th>\n",
       "      <th>price</th>\n",
       "      <th>weather</th>\n",
       "      <th>avg_temp</th>\n",
       "      <th>snow</th>\n",
       "      <th>sekisetu</th>\n",
       "    </tr>\n",
       "  </thead>\n",
       "  <tbody>\n",
       "    <tr>\n",
       "      <th>0</th>\n",
       "      <td>0.0</td>\n",
       "      <td>9</td>\n",
       "      <td>1</td>\n",
       "      <td>6</td>\n",
       "      <td>1</td>\n",
       "      <td>498.000000</td>\n",
       "      <td>0.0</td>\n",
       "      <td>2.7</td>\n",
       "      <td>0.0</td>\n",
       "      <td>0.0</td>\n",
       "    </tr>\n",
       "    <tr>\n",
       "      <th>1</th>\n",
       "      <td>3.0</td>\n",
       "      <td>10</td>\n",
       "      <td>1</td>\n",
       "      <td>6</td>\n",
       "      <td>1</td>\n",
       "      <td>449.333333</td>\n",
       "      <td>0.0</td>\n",
       "      <td>3.4</td>\n",
       "      <td>0.0</td>\n",
       "      <td>0.0</td>\n",
       "    </tr>\n",
       "    <tr>\n",
       "      <th>2</th>\n",
       "      <td>3.0</td>\n",
       "      <td>11</td>\n",
       "      <td>1</td>\n",
       "      <td>6</td>\n",
       "      <td>1</td>\n",
       "      <td>355.333333</td>\n",
       "      <td>0.0</td>\n",
       "      <td>5.0</td>\n",
       "      <td>0.0</td>\n",
       "      <td>0.0</td>\n",
       "    </tr>\n",
       "    <tr>\n",
       "      <th>3</th>\n",
       "      <td>0.0</td>\n",
       "      <td>12</td>\n",
       "      <td>1</td>\n",
       "      <td>6</td>\n",
       "      <td>1</td>\n",
       "      <td>498.000000</td>\n",
       "      <td>0.0</td>\n",
       "      <td>5.0</td>\n",
       "      <td>0.0</td>\n",
       "      <td>0.0</td>\n",
       "    </tr>\n",
       "    <tr>\n",
       "      <th>4</th>\n",
       "      <td>1.0</td>\n",
       "      <td>13</td>\n",
       "      <td>1</td>\n",
       "      <td>6</td>\n",
       "      <td>1</td>\n",
       "      <td>298.000000</td>\n",
       "      <td>0.0</td>\n",
       "      <td>6.4</td>\n",
       "      <td>0.0</td>\n",
       "      <td>0.0</td>\n",
       "    </tr>\n",
       "  </tbody>\n",
       "</table>\n",
       "</div>"
      ],
      "text/plain": [
       "   uri_su hour month youbi  weekofyear       price  weather  avg_temp  snow  \\\n",
       "0     0.0    9     1     6           1  498.000000      0.0       2.7   0.0   \n",
       "1     3.0   10     1     6           1  449.333333      0.0       3.4   0.0   \n",
       "2     3.0   11     1     6           1  355.333333      0.0       5.0   0.0   \n",
       "3     0.0   12     1     6           1  498.000000      0.0       5.0   0.0   \n",
       "4     1.0   13     1     6           1  298.000000      0.0       6.4   0.0   \n",
       "\n",
       "   sekisetu  \n",
       "0       0.0  \n",
       "1       0.0  \n",
       "2       0.0  \n",
       "3       0.0  \n",
       "4       0.0  "
      ]
     },
     "execution_count": 9,
     "metadata": {},
     "output_type": "execute_result"
    }
   ],
   "source": [
    "origin_data.head()"
   ]
  },
  {
   "cell_type": "code",
   "execution_count": 10,
   "metadata": {},
   "outputs": [],
   "source": [
    "origin_data[\"month_youbi_hour\"]=origin_data[[\"hour\",\"month\",\"youbi\"]].apply(lambda x:\"{}_{}_{}\".format(x[0],x[1],x[2]),axis=1)"
   ]
  },
  {
   "cell_type": "code",
   "execution_count": 11,
   "metadata": {},
   "outputs": [
    {
     "data": {
      "text/html": [
       "<div>\n",
       "<style scoped>\n",
       "    .dataframe tbody tr th:only-of-type {\n",
       "        vertical-align: middle;\n",
       "    }\n",
       "\n",
       "    .dataframe tbody tr th {\n",
       "        vertical-align: top;\n",
       "    }\n",
       "\n",
       "    .dataframe thead th {\n",
       "        text-align: right;\n",
       "    }\n",
       "</style>\n",
       "<table border=\"1\" class=\"dataframe\">\n",
       "  <thead>\n",
       "    <tr style=\"text-align: right;\">\n",
       "      <th></th>\n",
       "      <th>uri_su</th>\n",
       "      <th>hour</th>\n",
       "      <th>month</th>\n",
       "      <th>youbi</th>\n",
       "      <th>weekofyear</th>\n",
       "      <th>price</th>\n",
       "      <th>weather</th>\n",
       "      <th>avg_temp</th>\n",
       "      <th>snow</th>\n",
       "      <th>sekisetu</th>\n",
       "      <th>month_youbi_hour</th>\n",
       "    </tr>\n",
       "  </thead>\n",
       "  <tbody>\n",
       "    <tr>\n",
       "      <th>0</th>\n",
       "      <td>0.0</td>\n",
       "      <td>9</td>\n",
       "      <td>1</td>\n",
       "      <td>6</td>\n",
       "      <td>1</td>\n",
       "      <td>498.000000</td>\n",
       "      <td>0.0</td>\n",
       "      <td>2.7</td>\n",
       "      <td>0.0</td>\n",
       "      <td>0.0</td>\n",
       "      <td>9_1_6</td>\n",
       "    </tr>\n",
       "    <tr>\n",
       "      <th>1</th>\n",
       "      <td>3.0</td>\n",
       "      <td>10</td>\n",
       "      <td>1</td>\n",
       "      <td>6</td>\n",
       "      <td>1</td>\n",
       "      <td>449.333333</td>\n",
       "      <td>0.0</td>\n",
       "      <td>3.4</td>\n",
       "      <td>0.0</td>\n",
       "      <td>0.0</td>\n",
       "      <td>10_1_6</td>\n",
       "    </tr>\n",
       "    <tr>\n",
       "      <th>2</th>\n",
       "      <td>3.0</td>\n",
       "      <td>11</td>\n",
       "      <td>1</td>\n",
       "      <td>6</td>\n",
       "      <td>1</td>\n",
       "      <td>355.333333</td>\n",
       "      <td>0.0</td>\n",
       "      <td>5.0</td>\n",
       "      <td>0.0</td>\n",
       "      <td>0.0</td>\n",
       "      <td>11_1_6</td>\n",
       "    </tr>\n",
       "    <tr>\n",
       "      <th>3</th>\n",
       "      <td>0.0</td>\n",
       "      <td>12</td>\n",
       "      <td>1</td>\n",
       "      <td>6</td>\n",
       "      <td>1</td>\n",
       "      <td>498.000000</td>\n",
       "      <td>0.0</td>\n",
       "      <td>5.0</td>\n",
       "      <td>0.0</td>\n",
       "      <td>0.0</td>\n",
       "      <td>12_1_6</td>\n",
       "    </tr>\n",
       "    <tr>\n",
       "      <th>4</th>\n",
       "      <td>1.0</td>\n",
       "      <td>13</td>\n",
       "      <td>1</td>\n",
       "      <td>6</td>\n",
       "      <td>1</td>\n",
       "      <td>298.000000</td>\n",
       "      <td>0.0</td>\n",
       "      <td>6.4</td>\n",
       "      <td>0.0</td>\n",
       "      <td>0.0</td>\n",
       "      <td>13_1_6</td>\n",
       "    </tr>\n",
       "  </tbody>\n",
       "</table>\n",
       "</div>"
      ],
      "text/plain": [
       "   uri_su hour month youbi  weekofyear       price  weather  avg_temp  snow  \\\n",
       "0     0.0    9     1     6           1  498.000000      0.0       2.7   0.0   \n",
       "1     3.0   10     1     6           1  449.333333      0.0       3.4   0.0   \n",
       "2     3.0   11     1     6           1  355.333333      0.0       5.0   0.0   \n",
       "3     0.0   12     1     6           1  498.000000      0.0       5.0   0.0   \n",
       "4     1.0   13     1     6           1  298.000000      0.0       6.4   0.0   \n",
       "\n",
       "   sekisetu month_youbi_hour  \n",
       "0       0.0            9_1_6  \n",
       "1       0.0           10_1_6  \n",
       "2       0.0           11_1_6  \n",
       "3       0.0           12_1_6  \n",
       "4       0.0           13_1_6  "
      ]
     },
     "execution_count": 11,
     "metadata": {},
     "output_type": "execute_result"
    }
   ],
   "source": [
    "origin_data.head()"
   ]
  },
  {
   "cell_type": "code",
   "execution_count": 12,
   "metadata": {},
   "outputs": [],
   "source": [
    "data_dummies=pd.get_dummies(origin_data)"
   ]
  },
  {
   "cell_type": "code",
   "execution_count": 13,
   "metadata": {},
   "outputs": [
    {
     "data": {
      "text/html": [
       "<div>\n",
       "<style scoped>\n",
       "    .dataframe tbody tr th:only-of-type {\n",
       "        vertical-align: middle;\n",
       "    }\n",
       "\n",
       "    .dataframe tbody tr th {\n",
       "        vertical-align: top;\n",
       "    }\n",
       "\n",
       "    .dataframe thead th {\n",
       "        text-align: right;\n",
       "    }\n",
       "</style>\n",
       "<table border=\"1\" class=\"dataframe\">\n",
       "  <thead>\n",
       "    <tr style=\"text-align: right;\">\n",
       "      <th></th>\n",
       "      <th>uri_su</th>\n",
       "      <th>weekofyear</th>\n",
       "      <th>price</th>\n",
       "      <th>weather</th>\n",
       "      <th>avg_temp</th>\n",
       "      <th>snow</th>\n",
       "      <th>sekisetu</th>\n",
       "      <th>hour_10</th>\n",
       "      <th>hour_11</th>\n",
       "      <th>hour_12</th>\n",
       "      <th>...</th>\n",
       "      <th>month_youbi_hour_9_8_4</th>\n",
       "      <th>month_youbi_hour_9_8_5</th>\n",
       "      <th>month_youbi_hour_9_8_6</th>\n",
       "      <th>month_youbi_hour_9_9_0</th>\n",
       "      <th>month_youbi_hour_9_9_1</th>\n",
       "      <th>month_youbi_hour_9_9_2</th>\n",
       "      <th>month_youbi_hour_9_9_3</th>\n",
       "      <th>month_youbi_hour_9_9_4</th>\n",
       "      <th>month_youbi_hour_9_9_5</th>\n",
       "      <th>month_youbi_hour_9_9_6</th>\n",
       "    </tr>\n",
       "  </thead>\n",
       "  <tbody>\n",
       "    <tr>\n",
       "      <th>0</th>\n",
       "      <td>0.0</td>\n",
       "      <td>1</td>\n",
       "      <td>498.000000</td>\n",
       "      <td>0.0</td>\n",
       "      <td>2.7</td>\n",
       "      <td>0.0</td>\n",
       "      <td>0.0</td>\n",
       "      <td>0</td>\n",
       "      <td>0</td>\n",
       "      <td>0</td>\n",
       "      <td>...</td>\n",
       "      <td>0</td>\n",
       "      <td>0</td>\n",
       "      <td>0</td>\n",
       "      <td>0</td>\n",
       "      <td>0</td>\n",
       "      <td>0</td>\n",
       "      <td>0</td>\n",
       "      <td>0</td>\n",
       "      <td>0</td>\n",
       "      <td>0</td>\n",
       "    </tr>\n",
       "    <tr>\n",
       "      <th>1</th>\n",
       "      <td>3.0</td>\n",
       "      <td>1</td>\n",
       "      <td>449.333333</td>\n",
       "      <td>0.0</td>\n",
       "      <td>3.4</td>\n",
       "      <td>0.0</td>\n",
       "      <td>0.0</td>\n",
       "      <td>1</td>\n",
       "      <td>0</td>\n",
       "      <td>0</td>\n",
       "      <td>...</td>\n",
       "      <td>0</td>\n",
       "      <td>0</td>\n",
       "      <td>0</td>\n",
       "      <td>0</td>\n",
       "      <td>0</td>\n",
       "      <td>0</td>\n",
       "      <td>0</td>\n",
       "      <td>0</td>\n",
       "      <td>0</td>\n",
       "      <td>0</td>\n",
       "    </tr>\n",
       "    <tr>\n",
       "      <th>2</th>\n",
       "      <td>3.0</td>\n",
       "      <td>1</td>\n",
       "      <td>355.333333</td>\n",
       "      <td>0.0</td>\n",
       "      <td>5.0</td>\n",
       "      <td>0.0</td>\n",
       "      <td>0.0</td>\n",
       "      <td>0</td>\n",
       "      <td>1</td>\n",
       "      <td>0</td>\n",
       "      <td>...</td>\n",
       "      <td>0</td>\n",
       "      <td>0</td>\n",
       "      <td>0</td>\n",
       "      <td>0</td>\n",
       "      <td>0</td>\n",
       "      <td>0</td>\n",
       "      <td>0</td>\n",
       "      <td>0</td>\n",
       "      <td>0</td>\n",
       "      <td>0</td>\n",
       "    </tr>\n",
       "    <tr>\n",
       "      <th>3</th>\n",
       "      <td>0.0</td>\n",
       "      <td>1</td>\n",
       "      <td>498.000000</td>\n",
       "      <td>0.0</td>\n",
       "      <td>5.0</td>\n",
       "      <td>0.0</td>\n",
       "      <td>0.0</td>\n",
       "      <td>0</td>\n",
       "      <td>0</td>\n",
       "      <td>1</td>\n",
       "      <td>...</td>\n",
       "      <td>0</td>\n",
       "      <td>0</td>\n",
       "      <td>0</td>\n",
       "      <td>0</td>\n",
       "      <td>0</td>\n",
       "      <td>0</td>\n",
       "      <td>0</td>\n",
       "      <td>0</td>\n",
       "      <td>0</td>\n",
       "      <td>0</td>\n",
       "    </tr>\n",
       "    <tr>\n",
       "      <th>4</th>\n",
       "      <td>1.0</td>\n",
       "      <td>1</td>\n",
       "      <td>298.000000</td>\n",
       "      <td>0.0</td>\n",
       "      <td>6.4</td>\n",
       "      <td>0.0</td>\n",
       "      <td>0.0</td>\n",
       "      <td>0</td>\n",
       "      <td>0</td>\n",
       "      <td>0</td>\n",
       "      <td>...</td>\n",
       "      <td>0</td>\n",
       "      <td>0</td>\n",
       "      <td>0</td>\n",
       "      <td>0</td>\n",
       "      <td>0</td>\n",
       "      <td>0</td>\n",
       "      <td>0</td>\n",
       "      <td>0</td>\n",
       "      <td>0</td>\n",
       "      <td>0</td>\n",
       "    </tr>\n",
       "  </tbody>\n",
       "</table>\n",
       "<p>5 rows × 1301 columns</p>\n",
       "</div>"
      ],
      "text/plain": [
       "   uri_su  weekofyear       price  weather  avg_temp  snow  sekisetu  hour_10  \\\n",
       "0     0.0           1  498.000000      0.0       2.7   0.0       0.0        0   \n",
       "1     3.0           1  449.333333      0.0       3.4   0.0       0.0        1   \n",
       "2     3.0           1  355.333333      0.0       5.0   0.0       0.0        0   \n",
       "3     0.0           1  498.000000      0.0       5.0   0.0       0.0        0   \n",
       "4     1.0           1  298.000000      0.0       6.4   0.0       0.0        0   \n",
       "\n",
       "   hour_11  hour_12  ...  month_youbi_hour_9_8_4  month_youbi_hour_9_8_5  \\\n",
       "0        0        0  ...                       0                       0   \n",
       "1        0        0  ...                       0                       0   \n",
       "2        1        0  ...                       0                       0   \n",
       "3        0        1  ...                       0                       0   \n",
       "4        0        0  ...                       0                       0   \n",
       "\n",
       "   month_youbi_hour_9_8_6  month_youbi_hour_9_9_0  month_youbi_hour_9_9_1  \\\n",
       "0                       0                       0                       0   \n",
       "1                       0                       0                       0   \n",
       "2                       0                       0                       0   \n",
       "3                       0                       0                       0   \n",
       "4                       0                       0                       0   \n",
       "\n",
       "   month_youbi_hour_9_9_2  month_youbi_hour_9_9_3  month_youbi_hour_9_9_4  \\\n",
       "0                       0                       0                       0   \n",
       "1                       0                       0                       0   \n",
       "2                       0                       0                       0   \n",
       "3                       0                       0                       0   \n",
       "4                       0                       0                       0   \n",
       "\n",
       "   month_youbi_hour_9_9_5  month_youbi_hour_9_9_6  \n",
       "0                       0                       0  \n",
       "1                       0                       0  \n",
       "2                       0                       0  \n",
       "3                       0                       0  \n",
       "4                       0                       0  \n",
       "\n",
       "[5 rows x 1301 columns]"
      ]
     },
     "metadata": {},
     "output_type": "display_data"
    }
   ],
   "source": [
    "display(data_dummies.head())"
   ]
  },
  {
   "cell_type": "code",
   "execution_count": 14,
   "metadata": {},
   "outputs": [
    {
     "data": {
      "text/plain": [
       "Index(['uri_su', 'weekofyear', 'price', 'weather', 'avg_temp', 'snow',\n",
       "       'sekisetu', 'hour_10', 'hour_11', 'hour_12',\n",
       "       ...\n",
       "       'month_youbi_hour_9_8_4', 'month_youbi_hour_9_8_5',\n",
       "       'month_youbi_hour_9_8_6', 'month_youbi_hour_9_9_0',\n",
       "       'month_youbi_hour_9_9_1', 'month_youbi_hour_9_9_2',\n",
       "       'month_youbi_hour_9_9_3', 'month_youbi_hour_9_9_4',\n",
       "       'month_youbi_hour_9_9_5', 'month_youbi_hour_9_9_6'],\n",
       "      dtype='object', length=1301)"
      ]
     },
     "execution_count": 14,
     "metadata": {},
     "output_type": "execute_result"
    }
   ],
   "source": [
    "data_dummies.columns"
   ]
  },
  {
   "cell_type": "code",
   "execution_count": 15,
   "metadata": {
    "scrolled": true
   },
   "outputs": [
    {
     "name": "stderr",
     "output_type": "stream",
     "text": [
      "/anaconda3/lib/python3.7/site-packages/ipykernel_launcher.py:1: DeprecationWarning: \n",
      ".ix is deprecated. Please use\n",
      ".loc for label based indexing or\n",
      ".iloc for positional indexing\n",
      "\n",
      "See the documentation here:\n",
      "http://pandas.pydata.org/pandas-docs/stable/indexing.html#ix-indexer-is-deprecated\n",
      "  \"\"\"Entry point for launching an IPython kernel.\n"
     ]
    }
   ],
   "source": [
    "feature=data_dummies.ix[:,\"weekofyear\":\"month_youbi_hour_9_9_6\"]\n",
    "x=feature.values\n",
    "y=data_dummies[\"uri_su\"].values"
   ]
  },
  {
   "cell_type": "code",
   "execution_count": 16,
   "metadata": {},
   "outputs": [
    {
     "data": {
      "text/plain": [
       "(5220,)"
      ]
     },
     "execution_count": 16,
     "metadata": {},
     "output_type": "execute_result"
    }
   ],
   "source": [
    "y.shape"
   ]
  },
  {
   "cell_type": "code",
   "execution_count": 17,
   "metadata": {},
   "outputs": [
    {
     "data": {
      "text/plain": [
       "(5220, 1300)"
      ]
     },
     "execution_count": 17,
     "metadata": {},
     "output_type": "execute_result"
    }
   ],
   "source": [
    "x.shape"
   ]
  },
  {
   "cell_type": "code",
   "execution_count": 18,
   "metadata": {},
   "outputs": [],
   "source": [
    "from sklearn.model_selection import train_test_split\n",
    "x_train,x_test,y_train,y_test=train_test_split(x,y,random_state=0)"
   ]
  },
  {
   "cell_type": "code",
   "execution_count": 19,
   "metadata": {},
   "outputs": [],
   "source": [
    "#lr=LinearRegression().fit(x_train,y_train)"
   ]
  },
  {
   "cell_type": "code",
   "execution_count": 20,
   "metadata": {},
   "outputs": [],
   "source": [
    "#print(\"train set score: {:.2f}\".format(lr.score(x_train,y_train)))\n",
    "#print(\"test set score:{:.2f}\".format(lr.score(x_test,y_test)))"
   ]
  },
  {
   "cell_type": "code",
   "execution_count": 21,
   "metadata": {},
   "outputs": [],
   "source": [
    "Ridge=Ridge(alpha=0.1).fit(x_train,y_train)"
   ]
  },
  {
   "cell_type": "code",
   "execution_count": 22,
   "metadata": {},
   "outputs": [
    {
     "name": "stdout",
     "output_type": "stream",
     "text": [
      "train set score: 0.52\n",
      "test set score:0.07\n"
     ]
    }
   ],
   "source": [
    "print(\"train set score: {:.2f}\".format(Ridge.score(x_train,y_train)))\n",
    "print(\"test set score:{:.2f}\".format(Ridge.score(x_test,y_test)))"
   ]
  },
  {
   "cell_type": "code",
   "execution_count": 23,
   "metadata": {},
   "outputs": [],
   "source": [
    "lasso=Lasso().fit(x_train,y_train)"
   ]
  },
  {
   "cell_type": "code",
   "execution_count": 24,
   "metadata": {},
   "outputs": [
    {
     "name": "stdout",
     "output_type": "stream",
     "text": [
      "train set score: 0.02\n",
      "test set score:0.01\n",
      "number of features used:2\n"
     ]
    }
   ],
   "source": [
    "print(\"train set score: {:.2f}\".format(lasso.score(x_train,y_train)))\n",
    "print(\"test set score:{:.2f}\".format(lasso.score(x_test,y_test)))\n",
    "print(\"number of features used:{}\".format(np.sum(lasso.coef_!=0)))"
   ]
  },
  {
   "cell_type": "code",
   "execution_count": 25,
   "metadata": {},
   "outputs": [],
   "source": [
    "lasso=Lasso(alpha=0.001,max_iter=10000).fit(x_train,y_train)"
   ]
  },
  {
   "cell_type": "code",
   "execution_count": 26,
   "metadata": {},
   "outputs": [
    {
     "name": "stdout",
     "output_type": "stream",
     "text": [
      "train set score: 0.41\n",
      "test set score:0.23\n",
      "number of features used:297\n"
     ]
    }
   ],
   "source": [
    "print(\"train set score: {:.2f}\".format(lasso.score(x_train,y_train)))\n",
    "print(\"test set score:{:.2f}\".format(lasso.score(x_test,y_test)))\n",
    "print(\"number of features used:{}\".format(np.sum(lasso.coef_!=0)))"
   ]
  },
  {
   "cell_type": "code",
   "execution_count": 27,
   "metadata": {},
   "outputs": [],
   "source": [
    "from sklearn.model_selection import cross_val_score\n",
    "lasso=Lasso(alpha=0.001,max_iter=10000)"
   ]
  },
  {
   "cell_type": "code",
   "execution_count": 28,
   "metadata": {},
   "outputs": [],
   "source": [
    "score=cross_val_score(lasso,x,y,cv=12)"
   ]
  },
  {
   "cell_type": "code",
   "execution_count": 29,
   "metadata": {},
   "outputs": [
    {
     "name": "stdout",
     "output_type": "stream",
     "text": [
      "cross_val_score:[ 0.02921644 -0.32937825  0.17137031  0.17565933  0.23535716  0.26380863\n",
      "  0.24758948  0.02741905  0.09069836  0.11364542  0.16329472  0.16851393]\n"
     ]
    }
   ],
   "source": [
    "print(\"cross_val_score:{}\".format(score))"
   ]
  },
  {
   "cell_type": "code",
   "execution_count": 30,
   "metadata": {},
   "outputs": [
    {
     "name": "stdout",
     "output_type": "stream",
     "text": [
      "Average cross_val_score:0.11309954791059273\n"
     ]
    }
   ],
   "source": [
    "print(\"Average cross_val_score:{}\".format(score.mean()))"
   ]
  },
  {
   "cell_type": "code",
   "execution_count": 31,
   "metadata": {},
   "outputs": [
    {
     "ename": "TypeError",
     "evalue": "'Ridge' object is not callable",
     "output_type": "error",
     "traceback": [
      "\u001b[0;31m---------------------------------------------------------------------------\u001b[0m",
      "\u001b[0;31mTypeError\u001b[0m                                 Traceback (most recent call last)",
      "\u001b[0;32m<ipython-input-31-acc1e244c4a2>\u001b[0m in \u001b[0;36m<module>\u001b[0;34m\u001b[0m\n\u001b[1;32m      4\u001b[0m     \u001b[0;31m#lasso.fit(x_train,y_train)\u001b[0m\u001b[0;34m\u001b[0m\u001b[0;34m\u001b[0m\u001b[0;34m\u001b[0m\u001b[0m\n\u001b[1;32m      5\u001b[0m     \u001b[0;31m#score=lasso.score(x_test,y_test)\u001b[0m\u001b[0;34m\u001b[0m\u001b[0;34m\u001b[0m\u001b[0;34m\u001b[0m\u001b[0m\n\u001b[0;32m----> 6\u001b[0;31m     \u001b[0mRidge\u001b[0m\u001b[0;34m=\u001b[0m\u001b[0mRidge\u001b[0m\u001b[0;34m(\u001b[0m\u001b[0malpha\u001b[0m\u001b[0;34m=\u001b[0m\u001b[0malpha\u001b[0m\u001b[0;34m)\u001b[0m\u001b[0;34m.\u001b[0m\u001b[0mfit\u001b[0m\u001b[0;34m(\u001b[0m\u001b[0mx_train\u001b[0m\u001b[0;34m,\u001b[0m\u001b[0my_train\u001b[0m\u001b[0;34m)\u001b[0m\u001b[0;34m\u001b[0m\u001b[0;34m\u001b[0m\u001b[0m\n\u001b[0m\u001b[1;32m      7\u001b[0m     \u001b[0mscore\u001b[0m\u001b[0;34m=\u001b[0m\u001b[0mRidge\u001b[0m\u001b[0;34m.\u001b[0m\u001b[0mscore\u001b[0m\u001b[0;34m(\u001b[0m\u001b[0mx_test\u001b[0m\u001b[0;34m,\u001b[0m\u001b[0my_test\u001b[0m\u001b[0;34m)\u001b[0m\u001b[0;34m\u001b[0m\u001b[0;34m\u001b[0m\u001b[0m\n\u001b[1;32m      8\u001b[0m     \u001b[0;32mif\u001b[0m \u001b[0mscore\u001b[0m\u001b[0;34m>\u001b[0m\u001b[0mbest_score\u001b[0m\u001b[0;34m:\u001b[0m\u001b[0;34m\u001b[0m\u001b[0;34m\u001b[0m\u001b[0m\n",
      "\u001b[0;31mTypeError\u001b[0m: 'Ridge' object is not callable"
     ]
    }
   ],
   "source": [
    "best_score=0\n",
    "for alpha in [0.0001,0.001,0.01,0.1,1,10,100]:\n",
    "    #lasso=Lasso(alpha=alpha,max_iter=10000)\n",
    "    #lasso.fit(x_train,y_train)\n",
    "    #score=lasso.score(x_test,y_test)\n",
    "    Ridge=Ridge(alpha=alpha).fit(x_train,y_train)\n",
    "    score=Ridge.score(x_test,y_test)\n",
    "    if score>best_score:\n",
    "        best_score=score\n",
    "        best_param={\"alpha\":alpha}\n",
    "print(\"Best_score:{:.2f}\".format(best_score))\n",
    "print(\"Best parameters:{}\".format(best_param))"
   ]
  },
  {
   "cell_type": "code",
   "execution_count": null,
   "metadata": {},
   "outputs": [],
   "source": [
    "#データを(訓練+検証セット)とテストセットの分割する\n",
    "best_score=0\n",
    "x_trainval,x_test,y_trainval,y_test=train_test_split(x,y,random_state=0)\n",
    "#(訓練+検証セット)を訓練セットと検証セットに分類する\n",
    "x_train,x_valid,y_train,y_valid=train_test_split(x_trainval,y_trainval,random_state=1)\n",
    "for alpha in [0.0001,0.001,0.01,0.1,1,10,100]:\n",
    "    #lasso=Lasso(alpha=alpha,max_iter=10000)\n",
    "    #lasso.fit(x_train,y_train)\n",
    "    #score=lasso.score(x_valid,y_valid)\n",
    "    Ridge=Ridge(alpha=alpha).fit(x_train,y_train)\n",
    "    score=Ridge.score(x_valid,y_valid)\n",
    "    if score>best_score:\n",
    "        best_score=score\n",
    "        best_param=alpha\n",
    "#lasso=Lasso(alpha=best_param,max_iter=10000).fit(x_trainval,y_trainval)\n",
    "#test_score=lasso.score(x_test,y_test)\n",
    "Ridge=Ridge(alpha=best_param,max_iter=10000).fit(x_trainval,y_trainval)\n",
    "test_score=Ridge.score(x_test,y_test)\n",
    "print(\"Best score on validation set:{:.2f}\".format(best_score))\n",
    "print(\"Best parameters:\",best_param)\n",
    "print(\"test set score with best parameters:{:.2f}\".format(test_score))"
   ]
  },
  {
   "cell_type": "code",
   "execution_count": null,
   "metadata": {},
   "outputs": [],
   "source": [
    "x_train,x_test,y_train,y_test=train_test_split(x,y,random_state=0)"
   ]
  },
  {
   "cell_type": "code",
   "execution_count": null,
   "metadata": {
    "scrolled": true
   },
   "outputs": [],
   "source": [
    "%matplotlib inline\n",
    "from sklearn.preprocessing import OneHotEncoder\n",
    "from sklearn.tree import DecisionTreeRegressor\n",
    "import matplotlib.pyplot as plt\n",
    "reg=DecisionTreeRegressor(min_samples_split=12).fit(x_train,y_train)\n",
    "plt.plot(x_test,reg.predict(x_test),label=\"decision tree\")\n",
    "#reg=LinearRegression().fit(x_train,y_train)\n",
    "#plt.plot(x_test,reg.predict(x_test),label=\"linear regression\")\n",
    "#plt.plot(x_test[:,0],y_test,\"o\",c=\"k\")"
   ]
  },
  {
   "cell_type": "code",
   "execution_count": null,
   "metadata": {},
   "outputs": [],
   "source": [
    "x_test.shape"
   ]
  },
  {
   "cell_type": "code",
   "execution_count": null,
   "metadata": {},
   "outputs": [],
   "source": [
    "y_test.shape"
   ]
  },
  {
   "cell_type": "code",
   "execution_count": null,
   "metadata": {},
   "outputs": [],
   "source": []
  }
 ],
 "metadata": {
  "kernelspec": {
   "display_name": "Python 3",
   "language": "python",
   "name": "python3"
  },
  "language_info": {
   "codemirror_mode": {
    "name": "ipython",
    "version": 3
   },
   "file_extension": ".py",
   "mimetype": "text/x-python",
   "name": "python",
   "nbconvert_exporter": "python",
   "pygments_lexer": "ipython3",
   "version": "3.7.2"
  }
 },
 "nbformat": 4,
 "nbformat_minor": 2
}
